{
 "cells": [
  {
   "cell_type": "code",
   "execution_count": 13,
   "metadata": {},
   "outputs": [],
   "source": [
    "from __future__ import print_function\n",
    "import sys\n",
    "import random\n",
    "random.seed(49999)\n",
    "import numpy\n",
    "\n",
    "sys.path.append('../matchzoo/inputs/')\n",
    "sys.path.append('../matchzoo/utils/')\n",
    "from preparation import Preparation\n",
    "from preprocess import Preprocess, NgramUtil"
   ]
  },
  {
   "cell_type": "code",
   "execution_count": 14,
   "metadata": {},
   "outputs": [
    {
     "ename": "TypeError",
     "evalue": "run_with_one_corpus() takes 2 positional arguments but 3 were given",
     "output_type": "error",
     "traceback": [
      "\u001b[1;31m---------------------------------------------------------------------------\u001b[0m",
      "\u001b[1;31mTypeError\u001b[0m                                 Traceback (most recent call last)",
      "\u001b[1;32m<ipython-input-14-3518546058e3>\u001b[0m in \u001b[0;36m<module>\u001b[1;34m()\u001b[0m\n\u001b[0;32m     17\u001b[0m \u001b[1;31m#order=2， sen1,sen2, 0 or 1\u001b[0m\u001b[1;33m\u001b[0m\u001b[1;33m\u001b[0m\u001b[0m\n\u001b[0;32m     18\u001b[0m \u001b[1;31m#order=1.  0 or 1, sen1, sen2\u001b[0m\u001b[1;33m\u001b[0m\u001b[1;33m\u001b[0m\u001b[0m\n\u001b[1;32m---> 19\u001b[1;33m \u001b[0mcorpus\u001b[0m\u001b[1;33m,\u001b[0m \u001b[0mrels\u001b[0m \u001b[1;33m=\u001b[0m \u001b[0mprepare\u001b[0m\u001b[1;33m.\u001b[0m\u001b[0mrun_with_one_corpus\u001b[0m\u001b[1;33m(\u001b[0m\u001b[0minfile\u001b[0m\u001b[1;33m,\u001b[0m\u001b[1;36m2\u001b[0m\u001b[1;33m)\u001b[0m\u001b[1;33m\u001b[0m\u001b[0m\n\u001b[0m\u001b[0;32m     20\u001b[0m \u001b[0mprint\u001b[0m\u001b[1;33m(\u001b[0m\u001b[1;34m'total corpus : %d ...'\u001b[0m \u001b[1;33m%\u001b[0m \u001b[1;33m(\u001b[0m\u001b[0mlen\u001b[0m\u001b[1;33m(\u001b[0m\u001b[0mcorpus\u001b[0m\u001b[1;33m)\u001b[0m\u001b[1;33m)\u001b[0m\u001b[1;33m)\u001b[0m\u001b[1;33m\u001b[0m\u001b[0m\n\u001b[0;32m     21\u001b[0m \u001b[0mprint\u001b[0m\u001b[1;33m(\u001b[0m\u001b[1;34m'total relations : %d ...'\u001b[0m \u001b[1;33m%\u001b[0m \u001b[1;33m(\u001b[0m\u001b[0mlen\u001b[0m\u001b[1;33m(\u001b[0m\u001b[0mrels\u001b[0m\u001b[1;33m)\u001b[0m\u001b[1;33m)\u001b[0m\u001b[1;33m)\u001b[0m\u001b[1;33m\u001b[0m\u001b[0m\n",
      "\u001b[1;31mTypeError\u001b[0m: run_with_one_corpus() takes 2 positional arguments but 3 were given"
     ]
    }
   ],
   "source": [
    "prepare = Preparation()\n",
    "srcdir = '../matchzoo/'\n",
    "dstdir = 'D:/nlp_data/'\n",
    "\n",
    "\n",
    "####################\n",
    "#input is quora data\n",
    "#infile = srcdir + 'quora_duplicate_questions.tsv'\n",
    "#corpus, rels = prepare.run_with_one_corpus_for_quora(infile)\n",
    "\n",
    "\n",
    "#####################\n",
    "#input is SICK data\n",
    "infile = srcdir + 'train_snli.txt'\n",
    "\n",
    "order=2\n",
    "#order=2， sen1,sen2, 0 or 1\n",
    "#order=1.  0 or 1, sen1, sen2\n",
    "corpus, rels = prepare.run_with_one_corpus(infile,2)\n",
    "print('total corpus : %d ...' % (len(corpus)))\n",
    "print('total relations : %d ...' % (len(rels)))\n",
    "prepare.save_corpus(dstdir + 'corpus.txt', corpus)\n",
    "prepare.save_relation(dstdir + 'relation.txt', rels)\n"
   ]
  },
  {
   "cell_type": "code",
   "execution_count": null,
   "metadata": {},
   "outputs": [],
   "source": []
  }
 ],
 "metadata": {
  "kernelspec": {
   "display_name": "Python 3",
   "language": "python",
   "name": "python3"
  },
  "language_info": {
   "codemirror_mode": {
    "name": "ipython",
    "version": 3
   },
   "file_extension": ".py",
   "mimetype": "text/x-python",
   "name": "python",
   "nbconvert_exporter": "python",
   "pygments_lexer": "ipython3",
   "version": "3.6.5"
  }
 },
 "nbformat": 4,
 "nbformat_minor": 2
}
